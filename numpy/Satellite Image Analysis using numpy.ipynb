{
 "cells": [
  {
   "cell_type": "markdown",
   "metadata": {},
   "source": [
    "<p style=\"font-family: Arial; font-size:3.75em;color:purple; font-style:bold\"><br>\n",
    "Analise usando numpy <br><br><br>Dados de imagem de Satélite</p>\n",
    "\n",
    "<p style=\"font-family: Arial; font-size:1.75em;color:#2462C0; font-style:bold\"><br>Fonte dos dados: Imagem de Satélite do projeto WIFIRE</p>\n",
    "\n",
    "\n",
    "O WIFIRE é um sistema integrado para análise de incêndios florestais, com relação específica à mudança da dinâmica urbana e do clima. O sistema integra observações em rede, como dados de satélites heterogêneos e dados de sensores remotos em tempo real, com técnicas computacionais de processamento de sinais, visualização, modelagem e assimilação de dados para fornecer um método escalável para monitorar fenómenos como padrões climáticos que podem ajudar a prever incêndios florestais. taxa de propagação. Você pode ler mais sobre o WIFIRE em: https://wifire.ucsd.edu/\n",
    "\n",
    "Neste exemplo, analisaremos um conjunto de dados de imagens de satélite do WIFIRE usando a Biblioteca numpy."
   ]
  },
  {
   "cell_type": "code",
   "execution_count": null,
   "metadata": {},
   "outputs": [],
   "source": [
    "from IPython.display import YouTubeVideo\n",
    "YouTubeVideo('N4LAROiW5c8',width=990, height=400)"
   ]
  },
  {
   "cell_type": "markdown",
   "metadata": {},
   "source": [
    "<p style=\"font-family: Arial; font-size:1.75em;color:#2462C0; font-style:bold\">Carregando os pacotes que utilizaremos: numpy, scipy*, matplotlib*</p>"
   ]
  },
  {
   "cell_type": "code",
   "execution_count": null,
   "metadata": {},
   "outputs": [],
   "source": [
    "%matplotlib inline\n",
    "import numpy as np\n",
    "from scipy import misc\n",
    "import matplotlib.pyplot as plt\n",
    "import os # to manage directories"
   ]
  },
  {
   "cell_type": "markdown",
   "metadata": {},
   "source": [
    "<p style=\"font-family: Arial; font-size:1.75em;color:#2462C0; font-style:bold\">\n",
    "Criando um numpy array do arquivo de imagem:</p> \n",
    "\n",
    "<br>\n",
    "Vamos escolher uma imagem de satélite do projeto WIFIRE como um nd-array e printar o tipo dela"
   ]
  },
  {
   "cell_type": "code",
   "execution_count": null,
   "metadata": {},
   "outputs": [],
   "source": [
    "os.listdir()"
   ]
  },
  {
   "cell_type": "code",
   "execution_count": null,
   "metadata": {},
   "outputs": [],
   "source": [
    "os.listdir('wifire')"
   ]
  },
  {
   "cell_type": "code",
   "execution_count": null,
   "metadata": {},
   "outputs": [],
   "source": [
    "from skimage import data\n",
    "photo_data = misc.imread('./wifire/sd-3layers.jpg')\n",
    "\n",
    "type(photo_data)\n"
   ]
  },
  {
   "cell_type": "markdown",
   "metadata": {},
   "source": [
    "Vamos ver oq tem na imagem!"
   ]
  },
  {
   "cell_type": "code",
   "execution_count": null,
   "metadata": {},
   "outputs": [],
   "source": [
    "plt.figure(figsize=(15,15))\n",
    "plt.imshow(photo_data)"
   ]
  },
  {
   "cell_type": "code",
   "execution_count": null,
   "metadata": {},
   "outputs": [],
   "source": [
    "photo_data.shape"
   ]
  },
  {
   "cell_type": "code",
   "execution_count": null,
   "metadata": {
    "scrolled": true
   },
   "outputs": [],
   "source": [
    "photo_data[0,0,:] # first pixel\n",
    "#print(photo_data)"
   ]
  },
  {
   "cell_type": "markdown",
   "metadata": {},
   "source": [
    "A forma do ndarray mostra que é uma matriz de três camadas. Os dois primeiros números aqui são comprimento e largura, e o terceiro número (ou seja, 3) é para três camadas: Vermelho, Verde e Azul (RGB)\n",
    "\n",
    "<p style=\"font-family: Arial; font-size:1.75em;color:#2462C0; font-style:bold\">\n",
    "Descrição do mapeamento RGB da foto:</p> <br>\n",
    "<ul>\n",
    "<li><p style=\"font-family: Arial; font-size:1.75em;color:red; font-style:bold\">\n",
    "RED pixel indicam Altitudes</p>\n",
    "<li><p style=\"font-family: Arial; font-size:1.75em;color:green; font-style:bold\">\n",
    "GREEN pixel indicatam Inclinações\n",
    "</p>\n",
    "<li><p style=\"font-family: Arial; font-size:1.75em;color:blue; font-style:bold\">\n",
    "BLUE pixel indicacam Aspectos\n",
    "</p>\n",
    "\n",
    "</ul>\n",
    "<br>\n",
    "Altos valores denotam altas altitudes, aspectos(uma parada de geografia fisica) e inclinações.\n"
   ]
  },
  {
   "cell_type": "code",
   "execution_count": null,
   "metadata": {},
   "outputs": [],
   "source": [
    "photo_data.size"
   ]
  },
  {
   "cell_type": "code",
   "execution_count": null,
   "metadata": {},
   "outputs": [],
   "source": [
    "photo_data.min(), photo_data.max()"
   ]
  },
  {
   "cell_type": "code",
   "execution_count": null,
   "metadata": {},
   "outputs": [],
   "source": [
    "photo_data.mean()"
   ]
  },
  {
   "cell_type": "markdown",
   "metadata": {},
   "source": [
    "<p style=\"font-family: Arial; font-size:1.75em;color:#2462C0; font-style:bold\"><br>\n",
    "\n",
    "Pixel na 150th linha e 250th Coluna</p>"
   ]
  },
  {
   "cell_type": "code",
   "execution_count": null,
   "metadata": {},
   "outputs": [],
   "source": [
    "photo_data[150, 250]"
   ]
  },
  {
   "cell_type": "code",
   "execution_count": null,
   "metadata": {},
   "outputs": [],
   "source": [
    "photo_data[150, 250, 1]"
   ]
  },
  {
   "cell_type": "markdown",
   "metadata": {},
   "source": [
    "<p style=\"font-family: Arial; font-size:1.75em;color:#2462C0; font-style:bold\"><br>\n",
    "Setar um Pixel com Zeros</p>\n",
    "<br/>\n",
    "Podemos definir todas as três camadas em um pixel de uma vez atribuindo zero globalmente a esse pareamento (linha, coluna). No entanto, definir um pixel como zero não é perceptível."
   ]
  },
  {
   "cell_type": "code",
   "execution_count": null,
   "metadata": {},
   "outputs": [],
   "source": [
    "photo_data = misc.imread('./wifire/sd-3layers.jpg')\n",
    "#photo_data[150, 250] = 255\n",
    "plt.figure(figsize=(10,10))\n",
    "plt.imshow(photo_data)"
   ]
  },
  {
   "cell_type": "markdown",
   "metadata": {},
   "source": [
    "<p style=\"font-family: Arial; font-size:1.75em;color:#2462C0; font-style:bold\"><br>\n",
    "Mudando as cores de uma sequencis<p/>\n",
    "<br/>\n",
    "Também podemos usar um intervalo para alterar os valores dos pixels. Como exemplo, vamos definir a camada verde para linhas 200 a 800 com intensidade total."
   ]
  },
  {
   "cell_type": "code",
   "execution_count": null,
   "metadata": {},
   "outputs": [],
   "source": [
    "photo_data = misc.imread('./wifire/sd-3layers.jpg')\n",
    "\n",
    "photo_data[200:800, : ,1] = 255\n",
    "plt.figure(figsize=(10,10))\n",
    "plt.imshow(photo_data)"
   ]
  },
  {
   "cell_type": "code",
   "execution_count": null,
   "metadata": {},
   "outputs": [],
   "source": [
    "photo_data = misc.imread('./wifire/sd-3layers.jpg')\n",
    "\n",
    "photo_data[200:800, :] = 255\n",
    "plt.figure(figsize=(10,10))\n",
    "plt.imshow(photo_data)"
   ]
  },
  {
   "cell_type": "code",
   "execution_count": null,
   "metadata": {},
   "outputs": [],
   "source": [
    "photo_data = misc.imread('./wifire/sd-3layers.jpg')\n",
    "\n",
    "photo_data[200:800, :] = 0\n",
    "plt.figure(figsize=(10,10))\n",
    "plt.imshow(photo_data)"
   ]
  },
  {
   "cell_type": "markdown",
   "metadata": {},
   "source": [
    "<p style=\"font-family: Arial; font-size:1.75em;color:#2462C0; font-style:bold\"><br>\n",
    "Pegar todos os pixels com valores baixos</p>"
   ]
  },
  {
   "cell_type": "code",
   "execution_count": null,
   "metadata": {},
   "outputs": [],
   "source": [
    "photo_data = misc.imread('./wifire/sd-3layers.jpg')\n",
    "print(\"Shape of photo_data:\", photo_data.shape)\n",
    "low_value_filter = photo_data < 200\n",
    "print(\"Shape of low_value_filter:\", low_value_filter.shape)"
   ]
  },
  {
   "cell_type": "markdown",
   "metadata": {},
   "source": [
    "<p style=\"font-family: Arial; font-size:1.75em;color:#2462C0; font-style:bold\">\n",
    "Aplicando o filtro de baixos valores</p><br/>\n",
    "No entanto, se \"low_value_filter\" for True, mudar o valor para 0."
   ]
  },
  {
   "cell_type": "code",
   "execution_count": null,
   "metadata": {},
   "outputs": [],
   "source": [
    "#import random\n",
    "plt.figure(figsize=(10,10))\n",
    "plt.imshow(photo_data)\n",
    "photo_data[low_value_filter] = 0\n",
    "plt.figure(figsize=(10,10))\n",
    "plt.imshow(photo_data)"
   ]
  },
  {
   "cell_type": "markdown",
   "metadata": {},
   "source": [
    "<p style=\"font-family: Arial; font-size:1.75em;color:#2462C0; font-style:bold\">\n",
    "Mais operações de linhas e columnas</p><br>\n",
    "Você pode projetar padrões complexos fazendo cols uma função de linhas ou vice-versa. Aqui tentamos um relacionamento linear entre linhas e colunas."
   ]
  },
  {
   "cell_type": "code",
   "execution_count": null,
   "metadata": {},
   "outputs": [],
   "source": [
    "rows_range = np.arange(len(photo_data))\n",
    "cols_range = rows_range\n",
    "print(type(rows_range))"
   ]
  },
  {
   "cell_type": "code",
   "execution_count": null,
   "metadata": {},
   "outputs": [],
   "source": [
    "photo_data[rows_range, cols_range] = 255"
   ]
  },
  {
   "cell_type": "code",
   "execution_count": null,
   "metadata": {},
   "outputs": [],
   "source": [
    "plt.figure(figsize=(15,15))\n",
    "plt.imshow(photo_data)"
   ]
  },
  {
   "cell_type": "markdown",
   "metadata": {},
   "source": [
    "<p style=\"font-family: Arial; font-size:1.75em;color:#2462C0; font-style:bold\"><br>\n",
    "Mascarando Imagens</p>\n",
    "<br> Agora vamos tentar alguma coisa mais legal... uma mascara que tem a forma de um disco."
   ]
  },
  {
   "cell_type": "markdown",
   "metadata": {},
   "source": [
    "<img src=\"./1494532821.png\" align=\"left\" style=\"width:990px;height:400px;\" />"
   ]
  },
  {
   "cell_type": "code",
   "execution_count": null,
   "metadata": {},
   "outputs": [],
   "source": [
    "total_rows, total_cols, total_layers = photo_data.shape\n",
    "print(\"photo_data = \", photo_data.shape)\n",
    "\n",
    "X, Y = np.ogrid[:total_rows, :total_cols]\n",
    "print(\"X = \", X.shape, \" and Y = \", Y.shape)"
   ]
  },
  {
   "cell_type": "code",
   "execution_count": null,
   "metadata": {},
   "outputs": [],
   "source": [
    "center_row, center_col = total_rows / 2, total_cols / 2\n",
    "print(\"center_row = \", center_row, \"AND center_col = \", center_col)\n",
    "print(X - center_row)\n",
    "print(Y - center_col)\n",
    "dist_from_center = (X - center_row)**2 + (Y - center_col)**2\n",
    "#print(dist_from_center)\n",
    "radius = (total_rows / 2)**2\n",
    "#print(\"Radius = \", radius)\n",
    "circular_mask = (dist_from_center > radius)\n",
    "#print(circular_mask)\n",
    "#print(circular_mask[1500:1700,2000:2200])"
   ]
  },
  {
   "cell_type": "code",
   "execution_count": null,
   "metadata": {},
   "outputs": [],
   "source": [
    "photo_data = misc.imread('./wifire/sd-3layers.jpg')\n",
    "photo_data[circular_mask] = 0\n",
    "plt.figure(figsize=(15,15))\n",
    "plt.imshow(photo_data)"
   ]
  },
  {
   "cell_type": "markdown",
   "metadata": {},
   "source": [
    "<p style=\"font-family: Arial; font-size:1.75em;color:#2462C0; font-style:bold\">\n",
    "Mascarando ainda mais</p>\n",
    "<br/>\n",
    "Você pode melhorar ainda mais a máscara, por exemplo, apenas obter a metade superior do disco."
   ]
  },
  {
   "cell_type": "code",
   "execution_count": null,
   "metadata": {},
   "outputs": [],
   "source": [
    "X, Y = np.ogrid[:total_rows, :total_cols]\n",
    "half_upper = X < center_row # this line generates a mask for all rows above the center\n",
    "\n",
    "half_upper_mask = np.logical_and(half_upper, circular_mask)"
   ]
  },
  {
   "cell_type": "code",
   "execution_count": null,
   "metadata": {},
   "outputs": [],
   "source": [
    "np.logical_and(half_upper[-1],circular_mask[-1])"
   ]
  },
  {
   "cell_type": "code",
   "execution_count": null,
   "metadata": {},
   "outputs": [],
   "source": [
    "photo_data = misc.imread('./wifire/sd-3layers.jpg')\n",
    "photo_data[half_upper_mask] = 255\n",
    "#photo_data[half_upper_mask] = random.randint(200,255)\n",
    "plt.figure(figsize=(15,15))\n",
    "plt.imshow(photo_data)"
   ]
  },
  {
   "cell_type": "markdown",
   "metadata": {},
   "source": [
    "<p style=\"font-family: Arial; font-size:2.75em;color:purple; font-style:bold\"><br>\n",
    "Processando ainda mais nossa Imagem de Satélite </p>\n",
    "\n",
    "<p style=\"font-family: Arial; font-size:1.75em;color:#2462C0; font-style:bold\">\n",
    "Processando os Pixels vermelhos</p>\n",
    "\n",
    "Lembre-se que os pixels vermelhos nos dizem sobre a altura. Vamos tentar destacar todas as áreas de alta altitude. Faremos isso detectando pixels vermelhos de alta intensidade e \"silenciando\" outras áreas."
   ]
  },
  {
   "cell_type": "code",
   "execution_count": null,
   "metadata": {},
   "outputs": [],
   "source": [
    "photo_data = misc.imread('./wifire/sd-3layers.jpg')\n",
    "red_mask   = photo_data[:, : ,0] < 150\n",
    "\n",
    "photo_data[red_mask] = 0\n",
    "plt.figure(figsize=(15,15))\n",
    "plt.imshow(photo_data)"
   ]
  },
  {
   "cell_type": "markdown",
   "metadata": {},
   "source": [
    "<p style=\"font-family: Arial; font-size:1.75em;color:#2462C0; font-style:bold\"><br>\n",
    "Detectando Pixels de alta intensidade Verde</p>"
   ]
  },
  {
   "cell_type": "code",
   "execution_count": null,
   "metadata": {},
   "outputs": [],
   "source": [
    "photo_data = misc.imread('./wifire/sd-3layers.jpg')\n",
    "green_mask = photo_data[:, : ,1] < 150\n",
    "\n",
    "photo_data[green_mask] = 0\n",
    "plt.figure(figsize=(15,15))\n",
    "plt.imshow(photo_data)"
   ]
  },
  {
   "cell_type": "markdown",
   "metadata": {},
   "source": [
    "<p style=\"font-family: Arial; font-size:1.75em;color:#2462C0; font-style:bold\"><br>\n",
    "Detectando pixel de alta intensidade azul</p>"
   ]
  },
  {
   "cell_type": "code",
   "execution_count": null,
   "metadata": {},
   "outputs": [],
   "source": [
    "photo_data = misc.imread('./wifire/sd-3layers.jpg')\n",
    "blue_mask  = photo_data[:, : ,2] < 150\n",
    "\n",
    "photo_data[blue_mask] = 0\n",
    "plt.figure(figsize=(15,15))\n",
    "plt.imshow(photo_data)"
   ]
  },
  {
   "cell_type": "markdown",
   "metadata": {},
   "source": [
    "<p style=\"font-family: Arial; font-size:1.75em;color:#2462C0; font-style:bold\"><br>\n",
    "\n",
    "Compondo uma mascara que atenda aos limiares das três camadas: RED, GREEN, BLUE</p>"
   ]
  },
  {
   "cell_type": "code",
   "execution_count": null,
   "metadata": {},
   "outputs": [],
   "source": [
    "photo_data = misc.imread('./wifire/sd-3layers.jpg')\n",
    "\n",
    "red_mask   = photo_data[:, : ,0] < 150\n",
    "green_mask = photo_data[:, : ,1] > 100\n",
    "blue_mask  = photo_data[:, : ,2] < 100\n",
    "\n",
    "final_mask = np.logical_and(red_mask, green_mask, blue_mask)\n",
    "photo_data[final_mask] = 0\n",
    "plt.figure(figsize=(15,15))\n",
    "plt.imshow(photo_data)"
   ]
  },
  {
   "cell_type": "code",
   "execution_count": null,
   "metadata": {},
   "outputs": [],
   "source": []
  }
 ],
 "metadata": {
  "kernelspec": {
   "display_name": "Python 3",
   "language": "python",
   "name": "python3"
  },
  "language_info": {
   "codemirror_mode": {
    "name": "ipython",
    "version": 3
   },
   "file_extension": ".py",
   "mimetype": "text/x-python",
   "name": "python",
   "nbconvert_exporter": "python",
   "pygments_lexer": "ipython3",
   "version": "3.7.3"
  }
 },
 "nbformat": 4,
 "nbformat_minor": 4
}
